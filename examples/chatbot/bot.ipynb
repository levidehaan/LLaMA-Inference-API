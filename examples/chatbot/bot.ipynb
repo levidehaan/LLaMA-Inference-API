{
 "cells": [
  {
   "cell_type": "code",
   "execution_count": 2,
   "metadata": {},
   "outputs": [
    {
     "data": {
      "text/html": [
       "<pre style=\"white-space:pre;overflow-x:auto;line-height:normal;font-family:Menlo,'DejaVu Sans Mono',consolas,'Courier New',monospace\">Bot: The following is a friendly conversation between a human and an AI. The AI is talkative and provides lots of \n",
       "specific details from its context. If the AI does not know the answer to a question, it truthfully says it does not\n",
       "know.\n",
       "\n",
       "Current conversation:\n",
       "\n",
       "Human: hi\n",
       "AI:\n",
       "</pre>\n"
      ],
      "text/plain": [
       "Bot: The following is a friendly conversation between a human and an AI. The AI is talkative and provides lots of \n",
       "specific details from its context. If the AI does not know the answer to a question, it truthfully says it does not\n",
       "know.\n",
       "\n",
       "Current conversation:\n",
       "\n",
       "Human: hi\n",
       "AI:\n"
      ]
     },
     "metadata": {},
     "output_type": "display_data"
    }
   ],
   "source": [
    "from chatbot.chain import DummyChatBot\n",
    "from rich import print\n",
    "\n",
    "bot = DummyChatBot(verbose=False)\n",
    "print(bot.send(\"hi\"))"
   ]
  },
  {
   "cell_type": "code",
   "execution_count": 1,
   "metadata": {},
   "outputs": [
    {
     "name": "stderr",
     "output_type": "stream",
     "text": [
      "/home/aniket/miniconda3/envs/pl/lib/python3.10/site-packages/tqdm/auto.py:21: TqdmWarning: IProgress not found. Please update jupyter and ipywidgets. See https://ipywidgets.readthedocs.io/en/stable/user_install.html\n",
      "  from .autonotebook import tqdm as notebook_tqdm\n",
      "Loading model ...\n"
     ]
    }
   ],
   "source": [
    "from chatbot.chain import LLaMAChatBot\n",
    "\n",
    "checkpoint_path = f\"../../weights/state_dict.pth\"\n",
    "tokenizer_path = f\"../../weights/tokenizer.model\"\n",
    "\n",
    "bot = LLaMAChatBot(checkpoint_path=checkpoint_path, tokenizer_path=tokenizer_path)\n",
    "print(bot.send(\"hi, what is the capital of France?\"))"
   ]
  },
  {
   "cell_type": "code",
   "execution_count": null,
   "metadata": {},
   "outputs": [],
   "source": []
  }
 ],
 "metadata": {
  "kernelspec": {
   "display_name": "am",
   "language": "python",
   "name": "python3"
  },
  "language_info": {
   "codemirror_mode": {
    "name": "ipython",
    "version": 3
   },
   "file_extension": ".py",
   "mimetype": "text/x-python",
   "name": "python",
   "nbconvert_exporter": "python",
   "pygments_lexer": "ipython3",
   "version": "3.10.9"
  },
  "orig_nbformat": 4
 },
 "nbformat": 4,
 "nbformat_minor": 2
}
